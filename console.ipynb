{
 "cells": [
  {
   "cell_type": "code",
   "execution_count": 1,
   "metadata": {
    "collapsed": false
   },
   "outputs": [
    {
     "name": "stdout",
     "output_type": "stream",
     "text": [
      "1 loop, best of 3: 11.3 s per loop\n"
     ]
    }
   ],
   "source": [
    "import numpy as np\n",
    "from math import exp\n",
    "\n",
    "def rbf_pure_local(X, beta, theta):\n",
    "    N = X.shape[0]\n",
    "    D = X.shape[1]\n",
    "    Y = np.zeros(N)\n",
    "    for i in range(N):\n",
    "        for j in range(N):\n",
    "            r = 0\n",
    "            for d in range(D):\n",
    "                r += (X[j, d] - X[i, d]) ** 2\n",
    "            r = r**0.5\n",
    "            Y[i] += beta[j] * exp(-(r * theta)**2)\n",
    "\n",
    "    return Y\n",
    "D = 5\n",
    "N = 1000\n",
    "X = np.array([np.random.rand(N) for d in range(D)]).T\n",
    "beta = np.random.rand(N)\n",
    "theta = 10\n",
    "\n",
    "# hitung waktu eksekusi\n",
    "%timeit rbf_pure_local(X, beta, theta)"
   ]
  },
  {
   "cell_type": "code",
   "execution_count": 2,
   "metadata": {
    "collapsed": false
   },
   "outputs": [
    {
     "name": "stdout",
     "output_type": "stream",
     "text": [
      "10 loops, best of 3: 114 ms per loop\n"
     ]
    }
   ],
   "source": [
    "import cRBF\n",
    "import numpy as np\n",
    "rbf = cRBF.Cython_vs_Python()\n",
    "D = 5\n",
    "N = 1000\n",
    "X = np.array([np.random.rand(N) for d in range(D)]).T\n",
    "beta = np.random.rand(N)\n",
    "theta = 10\n",
    "%timeit rbf.rbf_cython(X, beta, theta)"
   ]
  },
  {
   "cell_type": "code",
   "execution_count": null,
   "metadata": {
    "collapsed": true
   },
   "outputs": [],
   "source": []
  }
 ],
 "metadata": {
  "kernelspec": {
   "display_name": "Python 3",
   "language": "python",
   "name": "python3"
  },
  "language_info": {
   "codemirror_mode": {
    "name": "ipython",
    "version": 3
   },
   "file_extension": ".py",
   "mimetype": "text/x-python",
   "name": "python",
   "nbconvert_exporter": "python",
   "pygments_lexer": "ipython3",
   "version": "3.5.2"
  }
 },
 "nbformat": 4,
 "nbformat_minor": 2
}
